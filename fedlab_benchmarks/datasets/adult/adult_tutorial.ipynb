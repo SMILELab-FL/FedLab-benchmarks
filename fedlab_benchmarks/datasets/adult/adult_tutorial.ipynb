{
 "cells": [
  {
   "cell_type": "code",
   "execution_count": 1,
   "metadata": {},
   "outputs": [],
   "source": [
    "from matplotlib import pyplot as plt\n",
    "import seaborn as sns\n",
    "import pandas as pd\n",
    "import numpy as np\n",
    "\n",
    "import sys\n",
    "\n",
    "import fedlab_benchmarks\n",
    "\n",
    "from fedlab.utils.dataset import AdultPartitioner\n",
    "from fedlab.utils.functional import partition_report\n",
    "from fedlab.dataset import Adult\n",
    "\n",
    "import torch\n",
    "from torch.utils.data import DataLoader"
   ]
  },
  {
   "cell_type": "markdown",
   "metadata": {},
   "source": [
    "# Adult Dataset"
   ]
  },
  {
   "cell_type": "code",
   "execution_count": 2,
   "metadata": {
    "scrolled": true
   },
   "outputs": [
    {
     "name": "stdout",
     "output_type": "stream",
     "text": [
      "Source file already downloaded.\n",
      "Local file ../../../../data/adult-a9a/a9a loaded.\n",
      "Train data size: 32561\n",
      "Train feature number: 123\n",
      "Train class distribution: class0:class1 = 7841:24720\n"
     ]
    }
   ],
   "source": [
    "trainset = Adult('../../../../data/adult-a9a/', train=True, download=True)\n",
    "train_loader = DataLoader(trainset, batch_size=20, shuffle=True)\n",
    "print(f\"Train data size: {len(trainset)}\")\n",
    "print(f\"Train feature number: {trainset.data.shape[1]}\")\n",
    "print(f\"Train class distribution: class0:class1 = \"\n",
    "      f\"{int(trainset.targets.sum())}:{len(trainset)-trainset.targets.sum()}\")"
   ]
  },
  {
   "cell_type": "code",
   "execution_count": 3,
   "metadata": {},
   "outputs": [
    {
     "name": "stdout",
     "output_type": "stream",
     "text": [
      "Source file already downloaded.\n",
      "Local file ../../../../data/adult-a9a/a9a.t loaded.\n",
      "Test data size: 16281\n",
      "Test feature number: 123\n",
      "Test class distribution: class0:class1 = 3846:12435\n"
     ]
    }
   ],
   "source": [
    "testset = Adult('../../../../data/adult-a9a/', train=False, download=True)\n",
    "test_loader = DataLoader(trainset, batch_size=20, shuffle=True)\n",
    "print(f\"Test data size: {len(testset)}\")\n",
    "print(f\"Test feature number: {testset.data.shape[1]}\")\n",
    "print(f\"Test class distribution: class0:class1 = \"\n",
    "      f\"{int(testset.targets.sum())}:{len(testset)-testset.targets.sum()}\")"
   ]
  },
  {
   "cell_type": "markdown",
   "metadata": {},
   "source": [
    "# Adult Data Partition"
   ]
  },
  {
   "cell_type": "code",
   "execution_count": 4,
   "metadata": {},
   "outputs": [],
   "source": [
    "num_clients = 10\n",
    "num_classes = 2\n",
    "seed = 2021\n",
    "\n",
    "col_names = [f\"class{i}\" for i in range(num_classes)]\n",
    "\n",
    "hist_color = '#4169E1'\n",
    "plt.rcParams['figure.facecolor'] = 'white'"
   ]
  },
  {
   "cell_type": "markdown",
   "metadata": {},
   "source": [
    "## Label distribution skew\n",
    "### Quantity-based"
   ]
  },
  {
   "cell_type": "code",
   "execution_count": 5,
   "metadata": {},
   "outputs": [],
   "source": [
    "# perform partition\n",
    "noniid_major_label_part = AdultPartitioner(trainset.targets, \n",
    "                                           num_clients=num_clients,\n",
    "                                           partition=\"noniid-#label\", \n",
    "                                           major_classes_num=1,\n",
    "                                           seed=seed)"
   ]
  },
  {
   "cell_type": "code",
   "execution_count": 6,
   "metadata": {},
   "outputs": [
    {
     "data": {
      "image/png": "[encoded data removed]",
      "text/plain": [
       "<Figure size 432x288 with 1 Axes>"
      ]
     },
     "metadata": {},
     "output_type": "display_data"
    }
   ],
   "source": [
    "# generate partition report\n",
    "csv_file = \"../partition-reports/adult_noniid-label1_10clients.csv\"\n",
    "partition_report(trainset.targets, noniid_major_label_part.client_dict, \n",
    "                 class_num=num_classes, \n",
    "                 verbose=False, file=csv_file)\n",
    "\n",
    "noniid_major_label_part_df = pd.read_csv(csv_file,header=1)\n",
    "noniid_major_label_part_df = noniid_major_label_part_df.set_index('client')\n",
    "for col in col_names:\n",
    "    noniid_major_label_part_df[col] = (noniid_major_label_part_df[col] * noniid_major_label_part_df['Amount']).astype(int)\n",
    "\n",
    "# select first 10 clients for bar plot\n",
    "noniid_major_label_part_df[col_names].plot.barh(stacked=True)  \n",
    "# plt.tight_layout()\n",
    "plt.legend(loc='center left', bbox_to_anchor=(1, 0.5))\n",
    "plt.xlabel('sample num')\n",
    "plt.savefig(f\"../imgs/adult_noniid-label1_10clients.png\", \n",
    "            dpi=400, bbox_inches = 'tight')"
   ]
  },
  {
   "cell_type": "code",
   "execution_count": null,
   "metadata": {},
   "outputs": [],
   "source": []
  },
  {
   "cell_type": "markdown",
   "metadata": {},
   "source": [
    "### Distributed-based (Dirichlet) "
   ]
  },
  {
   "cell_type": "code",
   "execution_count": 7,
   "metadata": {},
   "outputs": [],
   "source": [
    "# perform partition\n",
    "noniid_labeldir_part = AdultPartitioner(trainset.targets, \n",
    "                                        num_clients=num_clients,\n",
    "                                        partition=\"noniid-labeldir\", \n",
    "                                        dir_alpha=0.5,\n",
    "                                        seed=seed)"
   ]
  },
  {
   "cell_type": "code",
   "execution_count": 8,
   "metadata": {},
   "outputs": [
    {
     "data": {
      "image/png": "[encoded data removed]",
      "text/plain": [
       "<Figure size 432x288 with 1 Axes>"
      ]
     },
     "metadata": {},
     "output_type": "display_data"
    }
   ],
   "source": [
    "# generate partition report\n",
    "csv_file = \"../partition-reports/adult_noniid_labeldir_10clients.csv\"\n",
    "partition_report(trainset.targets, noniid_labeldir_part.client_dict, \n",
    "                 class_num=num_classes, \n",
    "                 verbose=False, file=csv_file)\n",
    "\n",
    "noniid_labeldir_part_df = pd.read_csv(csv_file,header=1)\n",
    "noniid_labeldir_part_df = noniid_labeldir_part_df.set_index('client')\n",
    "for col in col_names:\n",
    "    noniid_labeldir_part_df[col] = (noniid_labeldir_part_df[col] * noniid_labeldir_part_df['Amount']).astype(int)\n",
    "\n",
    "# select first 10 clients for bar plot\n",
    "noniid_labeldir_part_df[col_names].plot.barh(stacked=True)  \n",
    "# plt.tight_layout()\n",
    "plt.legend(loc='center left', bbox_to_anchor=(1, 0.5))\n",
    "plt.xlabel('sample num')\n",
    "plt.savefig(f\"../imgs/adult_noniid_labeldir_10clients.png\", \n",
    "            dpi=400, bbox_inches = 'tight')"
   ]
  },
  {
   "cell_type": "markdown",
   "metadata": {},
   "source": [
    "## Quantity skew (Dirichlet)"
   ]
  },
  {
   "cell_type": "code",
   "execution_count": 9,
   "metadata": {},
   "outputs": [],
   "source": [
    "# perform partition\n",
    "unbalance_part = AdultPartitioner(trainset.targets, \n",
    "                                  num_clients=num_clients,\n",
    "                                  partition=\"unbalance\", \n",
    "                                  dir_alpha=0.5,\n",
    "                                  seed=seed)"
   ]
  },
  {
   "cell_type": "code",
   "execution_count": 10,
   "metadata": {},
   "outputs": [
    {
     "data": {
      "image/png": "[encoded data removed]",
      "text/plain": [
       "<Figure size 432x288 with 1 Axes>"
      ]
     },
     "metadata": {},
     "output_type": "display_data"
    }
   ],
   "source": [
    "# generate partition report\n",
    "csv_file = \"../partition-reports/adult_unbalance_10clients.csv\"\n",
    "partition_report(trainset.targets, unbalance_part.client_dict, \n",
    "                 class_num=num_classes, \n",
    "                 verbose=False, file=csv_file)\n",
    "\n",
    "unbalance_part_df = pd.read_csv(csv_file,header=1)\n",
    "unbalance_part_df = unbalance_part_df.set_index('client')\n",
    "for col in col_names:\n",
    "    unbalance_part_df[col] = (unbalance_part_df[col] * unbalance_part_df['Amount']).astype(int)\n",
    "\n",
    "# select first 10 clients for bar plot\n",
    "unbalance_part_df[col_names].plot.barh(stacked=True)  \n",
    "# plt.tight_layout()\n",
    "plt.legend(loc='center left', bbox_to_anchor=(1, 0.5))\n",
    "plt.xlabel('sample num')\n",
    "plt.savefig(f\"../imgs/adult_unbalance_10clients.png\", \n",
    "            dpi=400, bbox_inches = 'tight')"
   ]
  },
  {
   "cell_type": "markdown",
   "metadata": {},
   "source": [
    "## IID"
   ]
  },
  {
   "cell_type": "code",
   "execution_count": 11,
   "metadata": {},
   "outputs": [],
   "source": [
    "# perform partition\n",
    "iid_part = AdultPartitioner(trainset.targets, \n",
    "                            num_clients=num_clients,\n",
    "                            partition=\"iid\",\n",
    "                            seed=seed)"
   ]
  },
  {
   "cell_type": "code",
   "execution_count": 12,
   "metadata": {},
   "outputs": [
    {
     "data": {
      "image/png": "[encoded data removed]",
      "text/plain": [
       "<Figure size 432x288 with 1 Axes>"
      ]
     },
     "metadata": {},
     "output_type": "display_data"
    }
   ],
   "source": [
    "# generate partition report\n",
    "csv_file = \"../partition-reports/adult_iid_10clients.csv\"\n",
    "partition_report(trainset.targets, iid_part.client_dict, \n",
    "                 class_num=num_classes, \n",
    "                 verbose=False, file=csv_file)\n",
    "\n",
    "iid_part_df = pd.read_csv(csv_file,header=1)\n",
    "iid_part_df = iid_part_df.set_index('client')\n",
    "for col in col_names:\n",
    "    iid_part_df[col] = (iid_part_df[col] * iid_part_df['Amount']).astype(int)\n",
    "\n",
    "# select first 10 clients for bar plot\n",
    "iid_part_df[col_names].plot.barh(stacked=True)  \n",
    "# plt.tight_layout()\n",
    "plt.legend(loc='center left', bbox_to_anchor=(1, 0.5))\n",
    "plt.xlabel('sample num')\n",
    "plt.savefig(f\"../imgs/adult_iid_10clients.png\", \n",
    "            dpi=400, bbox_inches = 'tight')"
   ]
  },
  {
   "cell_type": "code",
   "execution_count": null,
   "metadata": {},
   "outputs": [],
   "source": []
  }
 ],
 "metadata": {
  "kernelspec": {
   "display_name": "Python [conda env:torch]",
   "language": "python",
   "name": "conda-env-torch-py"
  },
  "language_info": {
   "codemirror_mode": {
    "name": "ipython",
    "version": 3
   },
   "file_extension": ".py",
   "mimetype": "text/x-python",
   "name": "python",
   "nbconvert_exporter": "python",
   "pygments_lexer": "ipython3",
   "version": "3.8.13"
  },
  "latex_envs": {
   "LaTeX_envs_menu_present": true,
   "autoclose": false,
   "autocomplete": true,
   "bibliofile": "biblio.bib",
   "cite_by": "apalike",
   "current_citInitial": 1,
   "eqLabelWithNumbers": true,
   "eqNumInitial": 1,
   "hotkeys": {
    "equation": "Ctrl-E",
    "itemize": "Ctrl-I"
   },
   "labels_anchors": false,
   "latex_user_defs": false,
   "report_style_numbering": false,
   "user_envs_cfg": false
  },
  "toc": {
   "base_numbering": 1,
   "nav_menu": {},
   "number_sections": true,
   "sideBar": true,
   "skip_h1_title": false,
   "title_cell": "Table of Contents",
   "title_sidebar": "Contents",
   "toc_cell": false,
   "toc_position": {},
   "toc_section_display": true,
   "toc_window_display": true
  }
 },
 "nbformat": 4,
 "nbformat_minor": 4
}
